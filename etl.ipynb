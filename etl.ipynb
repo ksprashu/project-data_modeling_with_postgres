{
 "cells": [
  {
   "cell_type": "markdown",
   "metadata": {
    "editable": true
   },
   "source": [
    "# ETL Processes\n",
    "Use this notebook to develop the ETL process for each of your tables before completing the `etl.py` file to load the whole datasets."
   ]
  },
  {
   "cell_type": "code",
   "execution_count": 1,
   "metadata": {
    "editable": true
   },
   "outputs": [],
   "source": [
    "import os\n",
    "import glob\n",
    "import psycopg2\n",
    "import pandas as pd\n",
    "import numpy as np\n",
    "from sql_queries import *"
   ]
  },
  {
   "cell_type": "code",
   "execution_count": 2,
   "metadata": {
    "editable": true
   },
   "outputs": [],
   "source": [
    "conn = psycopg2.connect(\"host=127.0.0.1 dbname=sparkifydb user=student password=student\")\n",
    "cur = conn.cursor()"
   ]
  },
  {
   "cell_type": "code",
   "execution_count": 3,
   "metadata": {
    "editable": true
   },
   "outputs": [],
   "source": [
    "def get_files(filepath):\n",
    "    all_files = []\n",
    "    for root, dirs, files in os.walk(filepath):\n",
    "        files = glob.glob(os.path.join(root,'*.json'))\n",
    "        for f in files :\n",
    "            all_files.append(os.path.abspath(f))\n",
    "    \n",
    "    return all_files"
   ]
  },
  {
   "cell_type": "markdown",
   "metadata": {
    "editable": true
   },
   "source": [
    "# Process `song_data`\n",
    "In this first part, you'll perform ETL on the first dataset, `song_data`, to create the `songs` and `artists` dimensional tables.\n",
    "\n",
    "Let's perform ETL on a single song file and load a single record into each table to start.\n",
    "- Use the `get_files` function provided above to get a list of all song JSON files in `data/song_data`\n",
    "- Select the first song in this list\n",
    "- Read the song file and view the data"
   ]
  },
  {
   "cell_type": "code",
   "execution_count": 4,
   "metadata": {
    "editable": true
   },
   "outputs": [],
   "source": [
    "song_files = get_files('data/song_data')"
   ]
  },
  {
   "cell_type": "code",
   "execution_count": 5,
   "metadata": {
    "editable": true
   },
   "outputs": [],
   "source": [
    "filepath = song_files[0]"
   ]
  },
  {
   "cell_type": "code",
   "execution_count": 6,
   "metadata": {
    "editable": true
   },
   "outputs": [
    {
     "data": {
      "text/plain": [
       "'/home/workspace/data/song_data/A/A/A/TRAAAAW128F429D538.json'"
      ]
     },
     "execution_count": 6,
     "metadata": {},
     "output_type": "execute_result"
    }
   ],
   "source": [
    "filepath"
   ]
  },
  {
   "cell_type": "code",
   "execution_count": 7,
   "metadata": {
    "editable": true
   },
   "outputs": [
    {
     "data": {
      "text/html": [
       "<div>\n",
       "<style scoped>\n",
       "    .dataframe tbody tr th:only-of-type {\n",
       "        vertical-align: middle;\n",
       "    }\n",
       "\n",
       "    .dataframe tbody tr th {\n",
       "        vertical-align: top;\n",
       "    }\n",
       "\n",
       "    .dataframe thead th {\n",
       "        text-align: right;\n",
       "    }\n",
       "</style>\n",
       "<table border=\"1\" class=\"dataframe\">\n",
       "  <thead>\n",
       "    <tr style=\"text-align: right;\">\n",
       "      <th></th>\n",
       "      <th>artist_id</th>\n",
       "      <th>artist_latitude</th>\n",
       "      <th>artist_location</th>\n",
       "      <th>artist_longitude</th>\n",
       "      <th>artist_name</th>\n",
       "      <th>duration</th>\n",
       "      <th>num_songs</th>\n",
       "      <th>song_id</th>\n",
       "      <th>title</th>\n",
       "      <th>year</th>\n",
       "    </tr>\n",
       "  </thead>\n",
       "  <tbody>\n",
       "    <tr>\n",
       "      <th>0</th>\n",
       "      <td>ARD7TVE1187B99BFB1</td>\n",
       "      <td>NaN</td>\n",
       "      <td>California - LA</td>\n",
       "      <td>NaN</td>\n",
       "      <td>Casual</td>\n",
       "      <td>218.93179</td>\n",
       "      <td>1</td>\n",
       "      <td>SOMZWCG12A8C13C480</td>\n",
       "      <td>I Didn't Mean To</td>\n",
       "      <td>0</td>\n",
       "    </tr>\n",
       "  </tbody>\n",
       "</table>\n",
       "</div>"
      ],
      "text/plain": [
       "            artist_id  artist_latitude  artist_location  artist_longitude  \\\n",
       "0  ARD7TVE1187B99BFB1              NaN  California - LA               NaN   \n",
       "\n",
       "  artist_name   duration  num_songs             song_id             title  \\\n",
       "0      Casual  218.93179          1  SOMZWCG12A8C13C480  I Didn't Mean To   \n",
       "\n",
       "   year  \n",
       "0     0  "
      ]
     },
     "execution_count": 7,
     "metadata": {},
     "output_type": "execute_result"
    }
   ],
   "source": [
    "df = pd.read_json(filepath, lines=True)\n",
    "df.head()"
   ]
  },
  {
   "cell_type": "markdown",
   "metadata": {
    "editable": true
   },
   "source": [
    "## #1: `songs` Table\n",
    "#### Extract Data for Songs Table\n",
    "- Select columns for song ID, title, artist ID, year, and duration\n",
    "- Use `df.values` to select just the values from the dataframe\n",
    "- Index to select the first (only) record in the dataframe\n",
    "- Convert the array to a list and set it to `song_data`"
   ]
  },
  {
   "cell_type": "code",
   "execution_count": 8,
   "metadata": {
    "editable": true
   },
   "outputs": [
    {
     "data": {
      "text/plain": [
       "['SOMZWCG12A8C13C480', \"I Didn't Mean To\", 'ARD7TVE1187B99BFB1', 0, 218.93179]"
      ]
     },
     "execution_count": 8,
     "metadata": {},
     "output_type": "execute_result"
    }
   ],
   "source": [
    "song_data = df.loc[:, ['song_id', 'title', 'artist_id', 'year', 'duration']].values[0].tolist()\n",
    "song_data"
   ]
  },
  {
   "cell_type": "markdown",
   "metadata": {
    "editable": true
   },
   "source": [
    "#### Insert Record into Song Table\n",
    "Implement the `song_table_insert` query in `sql_queries.py` and run the cell below to insert a record for this song into the `songs` table. Remember to run `create_tables.py` before running the cell below to ensure you've created/resetted the `songs` table in the sparkify database."
   ]
  },
  {
   "cell_type": "code",
   "execution_count": 9,
   "metadata": {
    "editable": true
   },
   "outputs": [],
   "source": [
    "cur.execute(song_table_insert, song_data)\n",
    "conn.commit()"
   ]
  },
  {
   "cell_type": "markdown",
   "metadata": {
    "editable": true
   },
   "source": [
    "Run `test.ipynb` to see if you've successfully added a record to this table."
   ]
  },
  {
   "cell_type": "markdown",
   "metadata": {
    "editable": true
   },
   "source": [
    "## #2: `artists` Table\n",
    "#### Extract Data for Artists Table\n",
    "- Select columns for artist ID, name, location, latitude, and longitude\n",
    "- Use `df.values` to select just the values from the dataframe\n",
    "- Index to select the first (only) record in the dataframe\n",
    "- Convert the array to a list and set it to `artist_data`"
   ]
  },
  {
   "cell_type": "code",
   "execution_count": 10,
   "metadata": {
    "editable": true
   },
   "outputs": [
    {
     "data": {
      "text/plain": [
       "['ARD7TVE1187B99BFB1', 'Casual', 'California - LA', nan, nan]"
      ]
     },
     "execution_count": 10,
     "metadata": {},
     "output_type": "execute_result"
    }
   ],
   "source": [
    "artist_data = df.loc[:, ['artist_id', 'artist_name', 'artist_location', 'artist_latitude', 'artist_longitude']].values[0].tolist()\n",
    "artist_data"
   ]
  },
  {
   "cell_type": "markdown",
   "metadata": {
    "editable": true
   },
   "source": [
    "#### Insert Record into Artist Table\n",
    "Implement the `artist_table_insert` query in `sql_queries.py` and run the cell below to insert a record for this song's artist into the `artists` table. Remember to run `create_tables.py` before running the cell below to ensure you've created/resetted the `artists` table in the sparkify database."
   ]
  },
  {
   "cell_type": "code",
   "execution_count": 11,
   "metadata": {
    "editable": true
   },
   "outputs": [],
   "source": [
    "cur.execute(artist_table_insert, artist_data)\n",
    "conn.commit()"
   ]
  },
  {
   "cell_type": "markdown",
   "metadata": {
    "editable": true
   },
   "source": [
    "Run `test.ipynb` to see if you've successfully added a record to this table."
   ]
  },
  {
   "cell_type": "markdown",
   "metadata": {
    "editable": true
   },
   "source": [
    "# Process `log_data`\n",
    "In this part, you'll perform ETL on the second dataset, `log_data`, to create the `time` and `users` dimensional tables, as well as the `songplays` fact table.\n",
    "\n",
    "Let's perform ETL on a single log file and load a single record into each table.\n",
    "- Use the `get_files` function provided above to get a list of all log JSON files in `data/log_data`\n",
    "- Select the first log file in this list\n",
    "- Read the log file and view the data"
   ]
  },
  {
   "cell_type": "code",
   "execution_count": 12,
   "metadata": {
    "editable": true
   },
   "outputs": [],
   "source": [
    "log_files = get_files('data/log_data')"
   ]
  },
  {
   "cell_type": "code",
   "execution_count": 13,
   "metadata": {
    "editable": true
   },
   "outputs": [],
   "source": [
    "filepath = log_files[0]"
   ]
  },
  {
   "cell_type": "code",
   "execution_count": 14,
   "metadata": {
    "editable": true
   },
   "outputs": [
    {
     "data": {
      "text/html": [
       "<div>\n",
       "<style scoped>\n",
       "    .dataframe tbody tr th:only-of-type {\n",
       "        vertical-align: middle;\n",
       "    }\n",
       "\n",
       "    .dataframe tbody tr th {\n",
       "        vertical-align: top;\n",
       "    }\n",
       "\n",
       "    .dataframe thead th {\n",
       "        text-align: right;\n",
       "    }\n",
       "</style>\n",
       "<table border=\"1\" class=\"dataframe\">\n",
       "  <thead>\n",
       "    <tr style=\"text-align: right;\">\n",
       "      <th></th>\n",
       "      <th>artist</th>\n",
       "      <th>auth</th>\n",
       "      <th>firstName</th>\n",
       "      <th>gender</th>\n",
       "      <th>itemInSession</th>\n",
       "      <th>lastName</th>\n",
       "      <th>length</th>\n",
       "      <th>level</th>\n",
       "      <th>location</th>\n",
       "      <th>method</th>\n",
       "      <th>page</th>\n",
       "      <th>registration</th>\n",
       "      <th>sessionId</th>\n",
       "      <th>song</th>\n",
       "      <th>status</th>\n",
       "      <th>ts</th>\n",
       "      <th>userAgent</th>\n",
       "      <th>userId</th>\n",
       "    </tr>\n",
       "  </thead>\n",
       "  <tbody>\n",
       "    <tr>\n",
       "      <th>0</th>\n",
       "      <td>Stephen Lynch</td>\n",
       "      <td>Logged In</td>\n",
       "      <td>Jayden</td>\n",
       "      <td>M</td>\n",
       "      <td>0</td>\n",
       "      <td>Bell</td>\n",
       "      <td>182.85669</td>\n",
       "      <td>free</td>\n",
       "      <td>Dallas-Fort Worth-Arlington, TX</td>\n",
       "      <td>PUT</td>\n",
       "      <td>NextSong</td>\n",
       "      <td>1.540992e+12</td>\n",
       "      <td>829</td>\n",
       "      <td>Jim Henson's Dead</td>\n",
       "      <td>200</td>\n",
       "      <td>1543537327796</td>\n",
       "      <td>Mozilla/5.0 (compatible; MSIE 10.0; Windows NT...</td>\n",
       "      <td>91</td>\n",
       "    </tr>\n",
       "    <tr>\n",
       "      <th>1</th>\n",
       "      <td>Manowar</td>\n",
       "      <td>Logged In</td>\n",
       "      <td>Jacob</td>\n",
       "      <td>M</td>\n",
       "      <td>0</td>\n",
       "      <td>Klein</td>\n",
       "      <td>247.56200</td>\n",
       "      <td>paid</td>\n",
       "      <td>Tampa-St. Petersburg-Clearwater, FL</td>\n",
       "      <td>PUT</td>\n",
       "      <td>NextSong</td>\n",
       "      <td>1.540558e+12</td>\n",
       "      <td>1049</td>\n",
       "      <td>Shell Shock</td>\n",
       "      <td>200</td>\n",
       "      <td>1543540121796</td>\n",
       "      <td>\"Mozilla/5.0 (Macintosh; Intel Mac OS X 10_9_4...</td>\n",
       "      <td>73</td>\n",
       "    </tr>\n",
       "    <tr>\n",
       "      <th>2</th>\n",
       "      <td>Morcheeba</td>\n",
       "      <td>Logged In</td>\n",
       "      <td>Jacob</td>\n",
       "      <td>M</td>\n",
       "      <td>1</td>\n",
       "      <td>Klein</td>\n",
       "      <td>257.41016</td>\n",
       "      <td>paid</td>\n",
       "      <td>Tampa-St. Petersburg-Clearwater, FL</td>\n",
       "      <td>PUT</td>\n",
       "      <td>NextSong</td>\n",
       "      <td>1.540558e+12</td>\n",
       "      <td>1049</td>\n",
       "      <td>Women Lose Weight (Feat: Slick Rick)</td>\n",
       "      <td>200</td>\n",
       "      <td>1543540368796</td>\n",
       "      <td>\"Mozilla/5.0 (Macintosh; Intel Mac OS X 10_9_4...</td>\n",
       "      <td>73</td>\n",
       "    </tr>\n",
       "    <tr>\n",
       "      <th>3</th>\n",
       "      <td>Maroon 5</td>\n",
       "      <td>Logged In</td>\n",
       "      <td>Jacob</td>\n",
       "      <td>M</td>\n",
       "      <td>2</td>\n",
       "      <td>Klein</td>\n",
       "      <td>231.23546</td>\n",
       "      <td>paid</td>\n",
       "      <td>Tampa-St. Petersburg-Clearwater, FL</td>\n",
       "      <td>PUT</td>\n",
       "      <td>NextSong</td>\n",
       "      <td>1.540558e+12</td>\n",
       "      <td>1049</td>\n",
       "      <td>Won't Go Home Without You</td>\n",
       "      <td>200</td>\n",
       "      <td>1543540625796</td>\n",
       "      <td>\"Mozilla/5.0 (Macintosh; Intel Mac OS X 10_9_4...</td>\n",
       "      <td>73</td>\n",
       "    </tr>\n",
       "    <tr>\n",
       "      <th>4</th>\n",
       "      <td>Train</td>\n",
       "      <td>Logged In</td>\n",
       "      <td>Jacob</td>\n",
       "      <td>M</td>\n",
       "      <td>3</td>\n",
       "      <td>Klein</td>\n",
       "      <td>216.76363</td>\n",
       "      <td>paid</td>\n",
       "      <td>Tampa-St. Petersburg-Clearwater, FL</td>\n",
       "      <td>PUT</td>\n",
       "      <td>NextSong</td>\n",
       "      <td>1.540558e+12</td>\n",
       "      <td>1049</td>\n",
       "      <td>Hey_ Soul Sister</td>\n",
       "      <td>200</td>\n",
       "      <td>1543540856796</td>\n",
       "      <td>\"Mozilla/5.0 (Macintosh; Intel Mac OS X 10_9_4...</td>\n",
       "      <td>73</td>\n",
       "    </tr>\n",
       "  </tbody>\n",
       "</table>\n",
       "</div>"
      ],
      "text/plain": [
       "          artist       auth firstName gender  itemInSession lastName  \\\n",
       "0  Stephen Lynch  Logged In    Jayden      M              0     Bell   \n",
       "1        Manowar  Logged In     Jacob      M              0    Klein   \n",
       "2      Morcheeba  Logged In     Jacob      M              1    Klein   \n",
       "3       Maroon 5  Logged In     Jacob      M              2    Klein   \n",
       "4          Train  Logged In     Jacob      M              3    Klein   \n",
       "\n",
       "      length level                             location method      page  \\\n",
       "0  182.85669  free      Dallas-Fort Worth-Arlington, TX    PUT  NextSong   \n",
       "1  247.56200  paid  Tampa-St. Petersburg-Clearwater, FL    PUT  NextSong   \n",
       "2  257.41016  paid  Tampa-St. Petersburg-Clearwater, FL    PUT  NextSong   \n",
       "3  231.23546  paid  Tampa-St. Petersburg-Clearwater, FL    PUT  NextSong   \n",
       "4  216.76363  paid  Tampa-St. Petersburg-Clearwater, FL    PUT  NextSong   \n",
       "\n",
       "   registration  sessionId                                  song  status  \\\n",
       "0  1.540992e+12        829                     Jim Henson's Dead     200   \n",
       "1  1.540558e+12       1049                           Shell Shock     200   \n",
       "2  1.540558e+12       1049  Women Lose Weight (Feat: Slick Rick)     200   \n",
       "3  1.540558e+12       1049             Won't Go Home Without You     200   \n",
       "4  1.540558e+12       1049                      Hey_ Soul Sister     200   \n",
       "\n",
       "              ts                                          userAgent userId  \n",
       "0  1543537327796  Mozilla/5.0 (compatible; MSIE 10.0; Windows NT...     91  \n",
       "1  1543540121796  \"Mozilla/5.0 (Macintosh; Intel Mac OS X 10_9_4...     73  \n",
       "2  1543540368796  \"Mozilla/5.0 (Macintosh; Intel Mac OS X 10_9_4...     73  \n",
       "3  1543540625796  \"Mozilla/5.0 (Macintosh; Intel Mac OS X 10_9_4...     73  \n",
       "4  1543540856796  \"Mozilla/5.0 (Macintosh; Intel Mac OS X 10_9_4...     73  "
      ]
     },
     "execution_count": 14,
     "metadata": {},
     "output_type": "execute_result"
    }
   ],
   "source": [
    "df = pd.read_json(filepath, lines=True)\n",
    "df.head()"
   ]
  },
  {
   "cell_type": "markdown",
   "metadata": {
    "editable": true
   },
   "source": [
    "## #3: `time` Table\n",
    "#### Extract Data for Time Table\n",
    "- Filter records by `NextSong` action\n",
    "- Convert the `ts` timestamp column to datetime\n",
    "  - Hint: the current timestamp is in milliseconds\n",
    "- Extract the timestamp, hour, day, week of year, month, year, and weekday from the `ts` column and set `time_data` to a list containing these values in order\n",
    "  - Hint: use pandas' [`dt` attribute](https://pandas.pydata.org/pandas-docs/stable/reference/api/pandas.Series.dt.html) to access easily datetimelike properties.\n",
    "- Specify labels for these columns and set to `column_labels`\n",
    "- Create a dataframe, `time_df,` containing the time data for this file by combining `column_labels` and `time_data` into a dictionary and converting this into a dataframe"
   ]
  },
  {
   "cell_type": "code",
   "execution_count": 15,
   "metadata": {
    "editable": true
   },
   "outputs": [
    {
     "data": {
      "text/html": [
       "<div>\n",
       "<style scoped>\n",
       "    .dataframe tbody tr th:only-of-type {\n",
       "        vertical-align: middle;\n",
       "    }\n",
       "\n",
       "    .dataframe tbody tr th {\n",
       "        vertical-align: top;\n",
       "    }\n",
       "\n",
       "    .dataframe thead th {\n",
       "        text-align: right;\n",
       "    }\n",
       "</style>\n",
       "<table border=\"1\" class=\"dataframe\">\n",
       "  <thead>\n",
       "    <tr style=\"text-align: right;\">\n",
       "      <th></th>\n",
       "      <th>artist</th>\n",
       "      <th>auth</th>\n",
       "      <th>firstName</th>\n",
       "      <th>gender</th>\n",
       "      <th>itemInSession</th>\n",
       "      <th>lastName</th>\n",
       "      <th>length</th>\n",
       "      <th>level</th>\n",
       "      <th>location</th>\n",
       "      <th>method</th>\n",
       "      <th>page</th>\n",
       "      <th>registration</th>\n",
       "      <th>sessionId</th>\n",
       "      <th>song</th>\n",
       "      <th>status</th>\n",
       "      <th>ts</th>\n",
       "      <th>userAgent</th>\n",
       "      <th>userId</th>\n",
       "    </tr>\n",
       "  </thead>\n",
       "  <tbody>\n",
       "    <tr>\n",
       "      <th>0</th>\n",
       "      <td>Stephen Lynch</td>\n",
       "      <td>Logged In</td>\n",
       "      <td>Jayden</td>\n",
       "      <td>M</td>\n",
       "      <td>0</td>\n",
       "      <td>Bell</td>\n",
       "      <td>182.85669</td>\n",
       "      <td>free</td>\n",
       "      <td>Dallas-Fort Worth-Arlington, TX</td>\n",
       "      <td>PUT</td>\n",
       "      <td>NextSong</td>\n",
       "      <td>1.540992e+12</td>\n",
       "      <td>829</td>\n",
       "      <td>Jim Henson's Dead</td>\n",
       "      <td>200</td>\n",
       "      <td>1543537327796</td>\n",
       "      <td>Mozilla/5.0 (compatible; MSIE 10.0; Windows NT...</td>\n",
       "      <td>91</td>\n",
       "    </tr>\n",
       "    <tr>\n",
       "      <th>1</th>\n",
       "      <td>Manowar</td>\n",
       "      <td>Logged In</td>\n",
       "      <td>Jacob</td>\n",
       "      <td>M</td>\n",
       "      <td>0</td>\n",
       "      <td>Klein</td>\n",
       "      <td>247.56200</td>\n",
       "      <td>paid</td>\n",
       "      <td>Tampa-St. Petersburg-Clearwater, FL</td>\n",
       "      <td>PUT</td>\n",
       "      <td>NextSong</td>\n",
       "      <td>1.540558e+12</td>\n",
       "      <td>1049</td>\n",
       "      <td>Shell Shock</td>\n",
       "      <td>200</td>\n",
       "      <td>1543540121796</td>\n",
       "      <td>\"Mozilla/5.0 (Macintosh; Intel Mac OS X 10_9_4...</td>\n",
       "      <td>73</td>\n",
       "    </tr>\n",
       "    <tr>\n",
       "      <th>2</th>\n",
       "      <td>Morcheeba</td>\n",
       "      <td>Logged In</td>\n",
       "      <td>Jacob</td>\n",
       "      <td>M</td>\n",
       "      <td>1</td>\n",
       "      <td>Klein</td>\n",
       "      <td>257.41016</td>\n",
       "      <td>paid</td>\n",
       "      <td>Tampa-St. Petersburg-Clearwater, FL</td>\n",
       "      <td>PUT</td>\n",
       "      <td>NextSong</td>\n",
       "      <td>1.540558e+12</td>\n",
       "      <td>1049</td>\n",
       "      <td>Women Lose Weight (Feat: Slick Rick)</td>\n",
       "      <td>200</td>\n",
       "      <td>1543540368796</td>\n",
       "      <td>\"Mozilla/5.0 (Macintosh; Intel Mac OS X 10_9_4...</td>\n",
       "      <td>73</td>\n",
       "    </tr>\n",
       "    <tr>\n",
       "      <th>3</th>\n",
       "      <td>Maroon 5</td>\n",
       "      <td>Logged In</td>\n",
       "      <td>Jacob</td>\n",
       "      <td>M</td>\n",
       "      <td>2</td>\n",
       "      <td>Klein</td>\n",
       "      <td>231.23546</td>\n",
       "      <td>paid</td>\n",
       "      <td>Tampa-St. Petersburg-Clearwater, FL</td>\n",
       "      <td>PUT</td>\n",
       "      <td>NextSong</td>\n",
       "      <td>1.540558e+12</td>\n",
       "      <td>1049</td>\n",
       "      <td>Won't Go Home Without You</td>\n",
       "      <td>200</td>\n",
       "      <td>1543540625796</td>\n",
       "      <td>\"Mozilla/5.0 (Macintosh; Intel Mac OS X 10_9_4...</td>\n",
       "      <td>73</td>\n",
       "    </tr>\n",
       "    <tr>\n",
       "      <th>4</th>\n",
       "      <td>Train</td>\n",
       "      <td>Logged In</td>\n",
       "      <td>Jacob</td>\n",
       "      <td>M</td>\n",
       "      <td>3</td>\n",
       "      <td>Klein</td>\n",
       "      <td>216.76363</td>\n",
       "      <td>paid</td>\n",
       "      <td>Tampa-St. Petersburg-Clearwater, FL</td>\n",
       "      <td>PUT</td>\n",
       "      <td>NextSong</td>\n",
       "      <td>1.540558e+12</td>\n",
       "      <td>1049</td>\n",
       "      <td>Hey_ Soul Sister</td>\n",
       "      <td>200</td>\n",
       "      <td>1543540856796</td>\n",
       "      <td>\"Mozilla/5.0 (Macintosh; Intel Mac OS X 10_9_4...</td>\n",
       "      <td>73</td>\n",
       "    </tr>\n",
       "  </tbody>\n",
       "</table>\n",
       "</div>"
      ],
      "text/plain": [
       "          artist       auth firstName gender  itemInSession lastName  \\\n",
       "0  Stephen Lynch  Logged In    Jayden      M              0     Bell   \n",
       "1        Manowar  Logged In     Jacob      M              0    Klein   \n",
       "2      Morcheeba  Logged In     Jacob      M              1    Klein   \n",
       "3       Maroon 5  Logged In     Jacob      M              2    Klein   \n",
       "4          Train  Logged In     Jacob      M              3    Klein   \n",
       "\n",
       "      length level                             location method      page  \\\n",
       "0  182.85669  free      Dallas-Fort Worth-Arlington, TX    PUT  NextSong   \n",
       "1  247.56200  paid  Tampa-St. Petersburg-Clearwater, FL    PUT  NextSong   \n",
       "2  257.41016  paid  Tampa-St. Petersburg-Clearwater, FL    PUT  NextSong   \n",
       "3  231.23546  paid  Tampa-St. Petersburg-Clearwater, FL    PUT  NextSong   \n",
       "4  216.76363  paid  Tampa-St. Petersburg-Clearwater, FL    PUT  NextSong   \n",
       "\n",
       "   registration  sessionId                                  song  status  \\\n",
       "0  1.540992e+12        829                     Jim Henson's Dead     200   \n",
       "1  1.540558e+12       1049                           Shell Shock     200   \n",
       "2  1.540558e+12       1049  Women Lose Weight (Feat: Slick Rick)     200   \n",
       "3  1.540558e+12       1049             Won't Go Home Without You     200   \n",
       "4  1.540558e+12       1049                      Hey_ Soul Sister     200   \n",
       "\n",
       "              ts                                          userAgent userId  \n",
       "0  1543537327796  Mozilla/5.0 (compatible; MSIE 10.0; Windows NT...     91  \n",
       "1  1543540121796  \"Mozilla/5.0 (Macintosh; Intel Mac OS X 10_9_4...     73  \n",
       "2  1543540368796  \"Mozilla/5.0 (Macintosh; Intel Mac OS X 10_9_4...     73  \n",
       "3  1543540625796  \"Mozilla/5.0 (Macintosh; Intel Mac OS X 10_9_4...     73  \n",
       "4  1543540856796  \"Mozilla/5.0 (Macintosh; Intel Mac OS X 10_9_4...     73  "
      ]
     },
     "execution_count": 15,
     "metadata": {},
     "output_type": "execute_result"
    }
   ],
   "source": [
    "df = df.query('page == \"NextSong\"')\n",
    "df.head()"
   ]
  },
  {
   "cell_type": "code",
   "execution_count": 16,
   "metadata": {
    "editable": true
   },
   "outputs": [
    {
     "data": {
      "text/plain": [
       "0   1970-01-01 00:25:43.537327796\n",
       "1   1970-01-01 00:25:43.540121796\n",
       "2   1970-01-01 00:25:43.540368796\n",
       "3   1970-01-01 00:25:43.540625796\n",
       "4   1970-01-01 00:25:43.540856796\n",
       "Name: ts, dtype: datetime64[ns]"
      ]
     },
     "execution_count": 16,
     "metadata": {},
     "output_type": "execute_result"
    }
   ],
   "source": [
    "t = pd.to_datetime(df['ts'])\n",
    "t.head()"
   ]
  },
  {
   "cell_type": "code",
   "execution_count": 17,
   "metadata": {
    "editable": true
   },
   "outputs": [],
   "source": [
    "time_data = (t.values, t.dt.hour.values, t.dt.day.values, t.dt.weekofyear.values, t.dt.month.values, t.dt.year.values, t.dt.weekday.values)\n",
    "column_labels = ('timestamp', 'hour', 'day', 'week', 'month', 'year', 'weekday')"
   ]
  },
  {
   "cell_type": "code",
   "execution_count": 18,
   "metadata": {
    "editable": true
   },
   "outputs": [
    {
     "data": {
      "text/html": [
       "<div>\n",
       "<style scoped>\n",
       "    .dataframe tbody tr th:only-of-type {\n",
       "        vertical-align: middle;\n",
       "    }\n",
       "\n",
       "    .dataframe tbody tr th {\n",
       "        vertical-align: top;\n",
       "    }\n",
       "\n",
       "    .dataframe thead th {\n",
       "        text-align: right;\n",
       "    }\n",
       "</style>\n",
       "<table border=\"1\" class=\"dataframe\">\n",
       "  <thead>\n",
       "    <tr style=\"text-align: right;\">\n",
       "      <th></th>\n",
       "      <th>timestamp</th>\n",
       "      <th>hour</th>\n",
       "      <th>day</th>\n",
       "      <th>week</th>\n",
       "      <th>month</th>\n",
       "      <th>year</th>\n",
       "      <th>weekday</th>\n",
       "    </tr>\n",
       "  </thead>\n",
       "  <tbody>\n",
       "    <tr>\n",
       "      <th>0</th>\n",
       "      <td>1543537327796</td>\n",
       "      <td>0</td>\n",
       "      <td>1</td>\n",
       "      <td>1</td>\n",
       "      <td>1</td>\n",
       "      <td>1970</td>\n",
       "      <td>3</td>\n",
       "    </tr>\n",
       "    <tr>\n",
       "      <th>1</th>\n",
       "      <td>1543540121796</td>\n",
       "      <td>0</td>\n",
       "      <td>1</td>\n",
       "      <td>1</td>\n",
       "      <td>1</td>\n",
       "      <td>1970</td>\n",
       "      <td>3</td>\n",
       "    </tr>\n",
       "    <tr>\n",
       "      <th>2</th>\n",
       "      <td>1543540368796</td>\n",
       "      <td>0</td>\n",
       "      <td>1</td>\n",
       "      <td>1</td>\n",
       "      <td>1</td>\n",
       "      <td>1970</td>\n",
       "      <td>3</td>\n",
       "    </tr>\n",
       "    <tr>\n",
       "      <th>3</th>\n",
       "      <td>1543540625796</td>\n",
       "      <td>0</td>\n",
       "      <td>1</td>\n",
       "      <td>1</td>\n",
       "      <td>1</td>\n",
       "      <td>1970</td>\n",
       "      <td>3</td>\n",
       "    </tr>\n",
       "    <tr>\n",
       "      <th>4</th>\n",
       "      <td>1543540856796</td>\n",
       "      <td>0</td>\n",
       "      <td>1</td>\n",
       "      <td>1</td>\n",
       "      <td>1</td>\n",
       "      <td>1970</td>\n",
       "      <td>3</td>\n",
       "    </tr>\n",
       "  </tbody>\n",
       "</table>\n",
       "</div>"
      ],
      "text/plain": [
       "       timestamp  hour  day  week  month  year  weekday\n",
       "0  1543537327796     0    1     1      1  1970        3\n",
       "1  1543540121796     0    1     1      1  1970        3\n",
       "2  1543540368796     0    1     1      1  1970        3\n",
       "3  1543540625796     0    1     1      1  1970        3\n",
       "4  1543540856796     0    1     1      1  1970        3"
      ]
     },
     "execution_count": 18,
     "metadata": {},
     "output_type": "execute_result"
    }
   ],
   "source": [
    "time_df = pd.DataFrame(data={l: d.tolist() for l, d in zip(column_labels, time_data)})\n",
    "time_df.head()"
   ]
  },
  {
   "cell_type": "markdown",
   "metadata": {
    "editable": true
   },
   "source": [
    "#### Insert Records into Time Table\n",
    "Implement the `time_table_insert` query in `sql_queries.py` and run the cell below to insert records for the timestamps in this log file into the `time` table. Remember to run `create_tables.py` before running the cell below to ensure you've created/resetted the `time` table in the sparkify database."
   ]
  },
  {
   "cell_type": "code",
   "execution_count": 19,
   "metadata": {
    "editable": true
   },
   "outputs": [],
   "source": [
    "for i, row in time_df.iterrows():\n",
    "    cur.execute(time_table_insert, list(row))\n",
    "    conn.commit()"
   ]
  },
  {
   "cell_type": "markdown",
   "metadata": {
    "editable": true
   },
   "source": [
    "Run `test.ipynb` to see if you've successfully added records to this table."
   ]
  },
  {
   "cell_type": "markdown",
   "metadata": {
    "editable": true
   },
   "source": [
    "## #4: `users` Table\n",
    "#### Extract Data for Users Table\n",
    "- Select columns for user ID, first name, last name, gender and level and set to `user_df`"
   ]
  },
  {
   "cell_type": "code",
   "execution_count": 20,
   "metadata": {
    "editable": true
   },
   "outputs": [
    {
     "data": {
      "text/html": [
       "<div>\n",
       "<style scoped>\n",
       "    .dataframe tbody tr th:only-of-type {\n",
       "        vertical-align: middle;\n",
       "    }\n",
       "\n",
       "    .dataframe tbody tr th {\n",
       "        vertical-align: top;\n",
       "    }\n",
       "\n",
       "    .dataframe thead th {\n",
       "        text-align: right;\n",
       "    }\n",
       "</style>\n",
       "<table border=\"1\" class=\"dataframe\">\n",
       "  <thead>\n",
       "    <tr style=\"text-align: right;\">\n",
       "      <th></th>\n",
       "      <th>userId</th>\n",
       "      <th>firstName</th>\n",
       "      <th>lastName</th>\n",
       "      <th>gender</th>\n",
       "      <th>level</th>\n",
       "    </tr>\n",
       "  </thead>\n",
       "  <tbody>\n",
       "    <tr>\n",
       "      <th>0</th>\n",
       "      <td>91</td>\n",
       "      <td>Jayden</td>\n",
       "      <td>Bell</td>\n",
       "      <td>M</td>\n",
       "      <td>free</td>\n",
       "    </tr>\n",
       "    <tr>\n",
       "      <th>1</th>\n",
       "      <td>73</td>\n",
       "      <td>Jacob</td>\n",
       "      <td>Klein</td>\n",
       "      <td>M</td>\n",
       "      <td>paid</td>\n",
       "    </tr>\n",
       "    <tr>\n",
       "      <th>23</th>\n",
       "      <td>86</td>\n",
       "      <td>Aiden</td>\n",
       "      <td>Hess</td>\n",
       "      <td>M</td>\n",
       "      <td>free</td>\n",
       "    </tr>\n",
       "    <tr>\n",
       "      <th>30</th>\n",
       "      <td>24</td>\n",
       "      <td>Layla</td>\n",
       "      <td>Griffin</td>\n",
       "      <td>F</td>\n",
       "      <td>paid</td>\n",
       "    </tr>\n",
       "    <tr>\n",
       "      <th>40</th>\n",
       "      <td>26</td>\n",
       "      <td>Ryan</td>\n",
       "      <td>Smith</td>\n",
       "      <td>M</td>\n",
       "      <td>free</td>\n",
       "    </tr>\n",
       "  </tbody>\n",
       "</table>\n",
       "</div>"
      ],
      "text/plain": [
       "   userId firstName lastName gender level\n",
       "0      91    Jayden     Bell      M  free\n",
       "1      73     Jacob    Klein      M  paid\n",
       "23     86     Aiden     Hess      M  free\n",
       "30     24     Layla  Griffin      F  paid\n",
       "40     26      Ryan    Smith      M  free"
      ]
     },
     "execution_count": 20,
     "metadata": {},
     "output_type": "execute_result"
    }
   ],
   "source": [
    "user_df = df.loc[:, ['userId', 'firstName', 'lastName', 'gender', 'level']]\n",
    "user_df = user_df.drop_duplicates() # drop any duplicates\n",
    "user_df.head()"
   ]
  },
  {
   "cell_type": "markdown",
   "metadata": {
    "editable": true
   },
   "source": [
    "#### Insert Records into Users Table\n",
    "Implement the `user_table_insert` query in `sql_queries.py` and run the cell below to insert records for the users in this log file into the `users` table. Remember to run `create_tables.py` before running the cell below to ensure you've created/resetted the `users` table in the sparkify database."
   ]
  },
  {
   "cell_type": "code",
   "execution_count": 21,
   "metadata": {
    "editable": true
   },
   "outputs": [],
   "source": [
    "for i, row in user_df.iterrows():\n",
    "    cur.execute(user_table_insert, row)\n",
    "    conn.commit()"
   ]
  },
  {
   "cell_type": "markdown",
   "metadata": {
    "editable": true
   },
   "source": [
    "Run `test.ipynb` to see if you've successfully added records to this table."
   ]
  },
  {
   "cell_type": "markdown",
   "metadata": {
    "editable": true
   },
   "source": [
    "## #5: `songplays` Table\n",
    "#### Extract Data and Songplays Table\n",
    "This one is a little more complicated since information from the songs table, artists table, and original log file are all needed for the `songplays` table. Since the log file does not specify an ID for either the song or the artist, you'll need to get the song ID and artist ID by querying the songs and artists tables to find matches based on song title, artist name, and song duration time.\n",
    "- Implement the `song_select` query in `sql_queries.py` to find the song ID and artist ID based on the title, artist name, and duration of a song.\n",
    "- Select the timestamp, user ID, level, song ID, artist ID, session ID, location, and user agent and set to `songplay_data`\n",
    "\n",
    "#### Insert Records into Songplays Table\n",
    "- Implement the `songplay_table_insert` query and run the cell below to insert records for the songplay actions in this log file into the `songplays` table. Remember to run `create_tables.py` before running the cell below to ensure you've created/resetted the `songplays` table in the sparkify database."
   ]
  },
  {
   "cell_type": "code",
   "execution_count": 22,
   "metadata": {
    "editable": true
   },
   "outputs": [
    {
     "data": {
      "text/html": [
       "<div>\n",
       "<style scoped>\n",
       "    .dataframe tbody tr th:only-of-type {\n",
       "        vertical-align: middle;\n",
       "    }\n",
       "\n",
       "    .dataframe tbody tr th {\n",
       "        vertical-align: top;\n",
       "    }\n",
       "\n",
       "    .dataframe thead th {\n",
       "        text-align: right;\n",
       "    }\n",
       "</style>\n",
       "<table border=\"1\" class=\"dataframe\">\n",
       "  <thead>\n",
       "    <tr style=\"text-align: right;\">\n",
       "      <th></th>\n",
       "      <th>artist</th>\n",
       "      <th>auth</th>\n",
       "      <th>firstName</th>\n",
       "      <th>gender</th>\n",
       "      <th>itemInSession</th>\n",
       "      <th>lastName</th>\n",
       "      <th>length</th>\n",
       "      <th>level</th>\n",
       "      <th>location</th>\n",
       "      <th>method</th>\n",
       "      <th>page</th>\n",
       "      <th>registration</th>\n",
       "      <th>sessionId</th>\n",
       "      <th>song</th>\n",
       "      <th>status</th>\n",
       "      <th>ts</th>\n",
       "      <th>userAgent</th>\n",
       "      <th>userId</th>\n",
       "    </tr>\n",
       "  </thead>\n",
       "  <tbody>\n",
       "    <tr>\n",
       "      <th>0</th>\n",
       "      <td>Stephen Lynch</td>\n",
       "      <td>Logged In</td>\n",
       "      <td>Jayden</td>\n",
       "      <td>M</td>\n",
       "      <td>0</td>\n",
       "      <td>Bell</td>\n",
       "      <td>182.85669</td>\n",
       "      <td>free</td>\n",
       "      <td>Dallas-Fort Worth-Arlington, TX</td>\n",
       "      <td>PUT</td>\n",
       "      <td>NextSong</td>\n",
       "      <td>1.540992e+12</td>\n",
       "      <td>829</td>\n",
       "      <td>Jim Henson's Dead</td>\n",
       "      <td>200</td>\n",
       "      <td>1543537327796</td>\n",
       "      <td>Mozilla/5.0 (compatible; MSIE 10.0; Windows NT...</td>\n",
       "      <td>91</td>\n",
       "    </tr>\n",
       "    <tr>\n",
       "      <th>1</th>\n",
       "      <td>Manowar</td>\n",
       "      <td>Logged In</td>\n",
       "      <td>Jacob</td>\n",
       "      <td>M</td>\n",
       "      <td>0</td>\n",
       "      <td>Klein</td>\n",
       "      <td>247.56200</td>\n",
       "      <td>paid</td>\n",
       "      <td>Tampa-St. Petersburg-Clearwater, FL</td>\n",
       "      <td>PUT</td>\n",
       "      <td>NextSong</td>\n",
       "      <td>1.540558e+12</td>\n",
       "      <td>1049</td>\n",
       "      <td>Shell Shock</td>\n",
       "      <td>200</td>\n",
       "      <td>1543540121796</td>\n",
       "      <td>\"Mozilla/5.0 (Macintosh; Intel Mac OS X 10_9_4...</td>\n",
       "      <td>73</td>\n",
       "    </tr>\n",
       "    <tr>\n",
       "      <th>2</th>\n",
       "      <td>Morcheeba</td>\n",
       "      <td>Logged In</td>\n",
       "      <td>Jacob</td>\n",
       "      <td>M</td>\n",
       "      <td>1</td>\n",
       "      <td>Klein</td>\n",
       "      <td>257.41016</td>\n",
       "      <td>paid</td>\n",
       "      <td>Tampa-St. Petersburg-Clearwater, FL</td>\n",
       "      <td>PUT</td>\n",
       "      <td>NextSong</td>\n",
       "      <td>1.540558e+12</td>\n",
       "      <td>1049</td>\n",
       "      <td>Women Lose Weight (Feat: Slick Rick)</td>\n",
       "      <td>200</td>\n",
       "      <td>1543540368796</td>\n",
       "      <td>\"Mozilla/5.0 (Macintosh; Intel Mac OS X 10_9_4...</td>\n",
       "      <td>73</td>\n",
       "    </tr>\n",
       "    <tr>\n",
       "      <th>3</th>\n",
       "      <td>Maroon 5</td>\n",
       "      <td>Logged In</td>\n",
       "      <td>Jacob</td>\n",
       "      <td>M</td>\n",
       "      <td>2</td>\n",
       "      <td>Klein</td>\n",
       "      <td>231.23546</td>\n",
       "      <td>paid</td>\n",
       "      <td>Tampa-St. Petersburg-Clearwater, FL</td>\n",
       "      <td>PUT</td>\n",
       "      <td>NextSong</td>\n",
       "      <td>1.540558e+12</td>\n",
       "      <td>1049</td>\n",
       "      <td>Won't Go Home Without You</td>\n",
       "      <td>200</td>\n",
       "      <td>1543540625796</td>\n",
       "      <td>\"Mozilla/5.0 (Macintosh; Intel Mac OS X 10_9_4...</td>\n",
       "      <td>73</td>\n",
       "    </tr>\n",
       "    <tr>\n",
       "      <th>4</th>\n",
       "      <td>Train</td>\n",
       "      <td>Logged In</td>\n",
       "      <td>Jacob</td>\n",
       "      <td>M</td>\n",
       "      <td>3</td>\n",
       "      <td>Klein</td>\n",
       "      <td>216.76363</td>\n",
       "      <td>paid</td>\n",
       "      <td>Tampa-St. Petersburg-Clearwater, FL</td>\n",
       "      <td>PUT</td>\n",
       "      <td>NextSong</td>\n",
       "      <td>1.540558e+12</td>\n",
       "      <td>1049</td>\n",
       "      <td>Hey_ Soul Sister</td>\n",
       "      <td>200</td>\n",
       "      <td>1543540856796</td>\n",
       "      <td>\"Mozilla/5.0 (Macintosh; Intel Mac OS X 10_9_4...</td>\n",
       "      <td>73</td>\n",
       "    </tr>\n",
       "  </tbody>\n",
       "</table>\n",
       "</div>"
      ],
      "text/plain": [
       "          artist       auth firstName gender  itemInSession lastName  \\\n",
       "0  Stephen Lynch  Logged In    Jayden      M              0     Bell   \n",
       "1        Manowar  Logged In     Jacob      M              0    Klein   \n",
       "2      Morcheeba  Logged In     Jacob      M              1    Klein   \n",
       "3       Maroon 5  Logged In     Jacob      M              2    Klein   \n",
       "4          Train  Logged In     Jacob      M              3    Klein   \n",
       "\n",
       "      length level                             location method      page  \\\n",
       "0  182.85669  free      Dallas-Fort Worth-Arlington, TX    PUT  NextSong   \n",
       "1  247.56200  paid  Tampa-St. Petersburg-Clearwater, FL    PUT  NextSong   \n",
       "2  257.41016  paid  Tampa-St. Petersburg-Clearwater, FL    PUT  NextSong   \n",
       "3  231.23546  paid  Tampa-St. Petersburg-Clearwater, FL    PUT  NextSong   \n",
       "4  216.76363  paid  Tampa-St. Petersburg-Clearwater, FL    PUT  NextSong   \n",
       "\n",
       "   registration  sessionId                                  song  status  \\\n",
       "0  1.540992e+12        829                     Jim Henson's Dead     200   \n",
       "1  1.540558e+12       1049                           Shell Shock     200   \n",
       "2  1.540558e+12       1049  Women Lose Weight (Feat: Slick Rick)     200   \n",
       "3  1.540558e+12       1049             Won't Go Home Without You     200   \n",
       "4  1.540558e+12       1049                      Hey_ Soul Sister     200   \n",
       "\n",
       "              ts                                          userAgent userId  \n",
       "0  1543537327796  Mozilla/5.0 (compatible; MSIE 10.0; Windows NT...     91  \n",
       "1  1543540121796  \"Mozilla/5.0 (Macintosh; Intel Mac OS X 10_9_4...     73  \n",
       "2  1543540368796  \"Mozilla/5.0 (Macintosh; Intel Mac OS X 10_9_4...     73  \n",
       "3  1543540625796  \"Mozilla/5.0 (Macintosh; Intel Mac OS X 10_9_4...     73  \n",
       "4  1543540856796  \"Mozilla/5.0 (Macintosh; Intel Mac OS X 10_9_4...     73  "
      ]
     },
     "execution_count": 22,
     "metadata": {},
     "output_type": "execute_result"
    }
   ],
   "source": [
    "df.head()"
   ]
  },
  {
   "cell_type": "code",
   "execution_count": 24,
   "metadata": {
    "collapsed": true,
    "editable": true,
    "jupyter": {
     "outputs_hidden": true
    }
   },
   "outputs": [
    {
     "name": "stdout",
     "output_type": "stream",
     "text": [
      "(\"Jim Henson's Dead\", 'Stephen Lynch', 182.85669) None\n",
      "('Shell Shock', 'Manowar', 247.562) None\n",
      "('Women Lose Weight (Feat: Slick Rick)', 'Morcheeba', 257.41016) None\n",
      "(\"Won't Go Home Without You\", 'Maroon 5', 231.23546) None\n",
      "('Hey_ Soul Sister', 'Train', 216.76363) None\n",
      "(\"I'm In Miami Bitch\", 'LMFAO', 227.99628) None\n",
      "('Sexy Bitch', 'DJ Dizzy', 221.1522) None\n",
      "('The Cure & The Cause (Dennis Ferrer Remix)', 'Fish Go Deep & Tracey K', 377.41669) None\n",
      "('Staring At Me', 'M83', 96.1824) None\n",
      "('The Second You Sleep', 'Saybia', 257.25342) None\n",
      "('Wide Eyes', 'Local Natives', 266.05669) None\n",
      "('La Resistance (Medley) (LP Version)', 'South Park', 112.97914) None\n",
      "('Restless', 'UNKLE Feat. Josh Homme', 307.19955) None\n",
      "('Noc...', 'Justyna Steczkowska', 333.53098) None\n",
      "('Like You', 'Evanescence', 256.91383) None\n",
      "('God Put A Smile Upon Your Face', 'Coldplay', 297.35138) None\n",
      "('Playboy', 'Hot Chip', 333.50485) None\n",
      "('Every Time You Go', 'Ellie Goulding', 205.06077) None\n",
      "('Natural Anthem (Album)', 'Postal Service', 307.53914) None\n",
      "('Taylor', 'Jack Johnson', 240.06485) None\n",
      "('Naked As We Can', 'Iron And Wine', 153.05098) None\n",
      "('Fantasy', 'The xx', 158.24934) None\n",
      "('Epilogue', 'The Antlers', 328.88118) None\n",
      "(\"Groovin'\", 'Fattburger', 217.20771) None\n",
      "(\"Ain't No Way (You Won't Love Me)\", 'Chris Brown', 203.80689) None\n",
      "('Rome', 'Phoenix', 278.07302) None\n",
      "('Highway Through My Home', 'Jim Lauderdale/Ralph Stanley & The Clinch Mountain Boys', 127.05914) None\n",
      "('143', 'Musiq', 297.84771) None\n",
      "('Dreams-Come-True-Girl', 'Cass McCombs feat. Karen Black', 322.06322) None\n",
      "(\"I Don't Feel Like Dancin'\", 'Scissor Sisters', 352.522) None\n",
      "('Right On Time (Album Version)', 'O.A.R.', 315.74159) None\n",
      "('Black Lines', '1 Mile North', 352.73098) None\n",
      "('Uprising', 'Muse', 304.84853) None\n",
      "('Man Makes The Zoo', 'USS (Ubiquitous Synergy Seeker)', 307.61751) None\n",
      "('Blacks/Radio', 'The Psychedelic Furs', 417.07057) None\n",
      "('Love Dealer (Featuring Justin Timberlake)', 'EsmÃ\\x83Â©e Denters / Justin Timberlake', 227.52608) None\n",
      "('ReprÃ\\x83Â©sente', 'Alliance Ethnik', 252.21179) None\n",
      "('Hey_ Soul Sister', 'Train', 216.76363) None\n",
      "('Up And Gone', 'Hoobastank', 202.57914) None\n",
      "('Te Conoci', 'Ismael Serrano', 179.35628) None\n",
      "('Bottle Pop', 'The Pussycat Dolls / Snoop Dogg', 210.31138) None\n",
      "('My Love Will Follow You', 'Dierks Bentley', 198.63465) None\n",
      "('Found Home', '59 Times the Pain', 144.95302) None\n",
      "('My December', 'Linkin Park', 259.86567) None\n",
      "('The Perfect Kiss', 'New Order', 288.05179) None\n",
      "(\"You're Gonna Make Me Lonesome When You Go\", 'Madeleine Peyroux', 206.18404) None\n",
      "('Shortie Like Mine', 'Bow Wow feat. Chris Brown and JohntÃ\\x83Â¡ Austin', 268.06812) None\n",
      "('Domination', 'Symphony X', 389.45914) None\n",
      "('Inside My Love (Digitally Remastered 93)', 'Minnie Riperton', 238.73261) None\n",
      "('Structure', 'Custom Blue', 346.51383) None\n",
      "('Killing In The Name', 'Rage Against The Machine', 314.40934) None\n",
      "(\"Girl You Know It's True\", 'Milli Vanilli', 197.92934) None\n",
      "('Waterfall (Spirit Of The Rainforest Album Version)', 'David Arkenstone', 363.41506) None\n",
      "('Robot Soul (Radio Edit)', 'Cosmo Vitelli', 206.05342) None\n",
      "('Blindfold', 'Morcheeba', 277.4722) None\n",
      "(\"I'm Yours (Album Version)\", 'Jason Mraz', 243.48689) None\n",
      "('Say Hello', 'Deep Dish', 274.28526) None\n",
      "('(I Just) Died In Your Arms', 'Cutting Crew', 263.07873) None\n",
      "('Sweet Jane', 'The Velvet Underground', 240.66567) None\n",
      "('Gears', 'Future Rock', 239.90812) None\n",
      "('Seven Nation Army (Album Version)', 'The White Stripes', 231.81016) None\n",
      "('Fix You', 'Coldplay', 294.1122) None\n",
      "('It Could Be Sweet', 'Portishead', 259.99628) None\n",
      "('If This Was The Last Song', 'Thelma Houston', 196.51873) None\n",
      "('Poppiholla', 'Chicane', 223.92118) None\n",
      "('The Unforgiven III', 'Metallica', 466.54649) None\n",
      "('Apresurate', 'Jennifer Lopez', 301.34812) None\n",
      "('There Is', 'Box Car Racer', 196.93669) None\n",
      "('Would That Make U Love Me', 'Robin Thicke', 216.68526) None\n",
      "('Screaming Infidelities', 'Dashboard Confessional', 226.29832) None\n",
      "('Big Idea', 'Radney Foster', 205.84444) None\n",
      "('Bulletproof', 'La Roux', 205.60934) None\n",
      "('The Tune', 'Wax Tailor', 177.68444) None\n",
      "('Trani', 'Kings Of Leon', 300.56444) None\n",
      "('Girl Money', 'Kix', 246.25587) None\n",
      "('Chloe Dancer/Crown Of Thorns', 'Mother Love Bone', 495.72526) None\n",
      "('The Bachelor and the Bride', 'The Decemberists', 252.81261) None\n",
      "('M', 'Telefon Tel Aviv', 222.09261) None\n",
      "(\"Nothin' On You [feat. Bruno Mars] (Album Version)\", 'B.o.B', 269.63546) None\n",
      "('You Sent Me Flying / Cherry', 'Amy Winehouse', 409.96526) None\n",
      "('Faithless', 'BEFORE THE DAWN', 195.65669) None\n",
      "('You Only Live Once', 'The Strokes', 187.34975) None\n",
      "('Tempting Time', 'Animals As Leaders', 323.83955) None\n",
      "('Flowers In December', 'Mazzy Star', 297.9522) None\n",
      "('Take It Back', 'Cream', 185.44281) None\n",
      "('Behind Two Hills&A Swimming Pool', 'MÃ\\x83Âºm', 68.67546) None\n",
      "('My First Kiss (Feat. Ke$ha) [Album Version]', '3OH!3', 192.522) None\n",
      "('Straight Outta Compton (Extended Mix) (Edit) (Explicit)', 'N.W.A.', 266.26567) None\n",
      "(\"Goin' Home\", 'Dan Auerbach', 296.95955) None\n",
      "('Sick', 'Lagwagon', 173.322) None\n",
      "('Fix You', 'Coldplay', 294.1122) None\n",
      "('Half Of My Heart', 'John Mayer', 250.38322) None\n",
      "('Revelry', 'Kings Of Leon', 201.79546) None\n",
      "('World Coming Down', 'Ashbury Heights', 198.60853) None\n",
      "('Fire', 'Scooter', 213.02812) None\n",
      "('Shoot Me Down', 'Boy Kill Boy', 220.47302) None\n",
      "('Juice (Know The Ledge)', 'Eric B. & Rakim', 241.60608) None\n",
      "(\"Hymne A L'Amour (Album Version)\", 'Josh Groban', 243.40853) None\n",
      "(\"We're Only Gonna Die (Album Version)\", 'Bad Religion', 131.86567) None\n",
      "('Next Hype', 'Tempa T', 236.35546) None\n",
      "('Fireflies', 'Charttraxx Karaoke', 225.17506) None\n",
      "('Hotel California', 'Eagles', 372.29669) None\n",
      "('Little Wing', 'Eric Clapton', 409.57342) None\n",
      "('Smothered (Album Version)', 'Spineshank', 187.6371) None\n",
      "('Try Your Best', 'Kaiser Chiefs', 221.07383) None\n",
      "('Le Courage Des Oiseaux', 'Dominique A', 153.20771) None\n",
      "('Lips Like Morphine (Album Version)', 'Kill Hannah', 224.49587) None\n",
      "('Kiedys zrozumiesz', 'I:gor', 190.27546) None\n",
      "(\"Fallin' Apart\", 'The All-American Rejects', 206.96771) None\n",
      "(\"Don't Cry (Original)\", \"Guns N' Roses\", 284.05506) None\n",
      "('Transparency', 'White Denim', 148.55791) None\n",
      "('La Suerte De Mi Vida', 'El Canto del Loco', 226.0371) None\n",
      "('Redwing', 'Grinderswitch', 268.2771) None\n",
      "('Starfish-On-The-Toast (2008 Digital Remaster)', 'Donovan', 169.22077) None\n",
      "('Illusions', 'As I Lay Dying', 348.1073) None\n",
      "('Bright Lights (Remastered Version)', 'matchbox twenty', 241.34485) None\n",
      "('Field Goal', 'Kinky', 105.32526) None\n",
      "('Nah!', 'Shania Twain', 250.51383) None\n",
      "('By The Way', 'Hinder', 231.73179) None\n",
      "('Keep On Running', 'The Spencer Davis Group', 165.27628) None\n",
      "('I Dont Wanna Wait', 'SOJA', 355.89179) None\n",
      "('Echonomix', 'Infected Mushroom', 463.72526) None\n",
      "('One By One', 'Unkle Bob', 160.10404) None\n",
      "('Sin Miedo a Nada (con Amaia Montero)', 'Alex Ubago', 313.28608) None\n",
      "('Bonnie Brae', 'The Twilight Singers', 286.53669) None\n",
      "('War', 'Chikita Violenta', 255.92118) None\n",
      "('Sad Lisa', 'Cat Stevens', 225.17506) None\n",
      "('The House That Nat Built (Album Version)', 'Kenny Garrett', 265.19465) None\n",
      "('Jealous Minds Think Alike', 'You Me At Six', 216.68526) None\n",
      "(\"My Mother's Eyes\", 'Nellie Lutcher', 195.70893) None\n",
      "('Make Her Say', 'Kid Cudi / Kanye West / Common', 237.76608) None\n",
      "('Viaje Sin Rumbo (2004 Digital Remaster)', 'Tiro De Gracia', 214.83057) None\n",
      "('Dreamdancer', 'polarkreis 18', 265.29914) None\n",
      "('The Queen of Nothing', '+ / - {Plus/Minus}', 318.98077) None\n",
      "('Riot In Cell Block Number Nine', 'Dr Feelgood', 216.13669) None\n",
      "('Sehr kosmisch', 'Harmonia', 655.77751) None\n",
      "('Everything You Love (Album Version)', 'Chimaira', 377.36444) None\n",
      "(\"Someone Else's Life\", 'Joshua Radin', 211.27791) None\n",
      "('Godine prolaze', 'Bajaga & Instruktori', 254.95465) None\n",
      "('Private Affair (Amended Album Version)', 'The Virgins', 169.37751) None\n",
      "('Ginko Biloba', \"SA Rawls / Still Flyin' / Still Flyin'\", 183.09179) None\n",
      "('Three Day Weekend', 'Grown Ups', 233.42975) None\n",
      "('Meen Dah Elly Nseik', 'Nancy Ajram', 221.67465) None\n",
      "('Boot On The Seat', 'The Donkeys', 272.19546) None\n",
      "('FaFaFa (Radio Edit)', 'Datarock', 228.49261) None\n",
      "('Human After All', 'Daft Punk', 319.42485) None\n",
      "('Somebody To Love', 'Justin Bieber', 220.89098) None\n",
      "('Real Love', 'Beach House', 320.44363) None\n",
      "('Subterranean Homesick Blues (Album Version)', 'The Walkmen', 199.36608) None\n",
      "(\"Can't Break Thru\", 'Busted / Charlie Simpson / Mattie Jay / James Bourne', 252.83873) None\n",
      "('Get Me Bodied', 'BeyoncÃ\\x83Â©', 374.59546) None\n",
      "('Maybe', 'Sick Puppies', 209.44934) None\n",
      "('Walk To The Water', 'U2', 289.2273) None\n",
      "(\"I CAN'T GET STARTED\", 'Ron Carter', 497.13587) None\n",
      "('Breath After Breath', 'Duran Duran', 297.63873) None\n",
      "('Head Over Heels', 'Tears For Fears', 255.34649) None\n",
      "('Lonely As You', 'Foo Fighters', 277.10649) None\n",
      "('One Year_ Six Months', 'Yellowcard', 208.79628) None\n",
      "('Against The Wall', 'Big Tymers', 252.05506) None\n",
      "('Knocking On Forbidden Doors', 'Enigma', 262.71302) None\n",
      "('Hey Hey', 'Dennis Ferrer', 209.162) None\n",
      "('Somebody To Love', 'Justin Bieber', 220.89098) None\n",
      "('Genom tunna tyger', 'Markus KrunegÃ\\x83Â¥rd', 185.5473) None\n",
      "('The Little Things Give You Away [Live At Milton Keynes]', 'Linkin Park', 439.562) None\n",
      "('Devil May Care', 'Jamie Cullum', 204.25098) None\n",
      "(\"Tell Me I'm A Wreck\", 'Every Avenue', 219.95057) None\n",
      "('Constellations', 'Jack Johnson', 201.63873) None\n",
      "('Vuelve', 'Shakira', 233.87383) None\n",
      "('Give Me Anything', 'The Maine', 189.59628) None\n",
      "('Worm Infested', 'Cannibal Corpse', 209.00526) None\n",
      "('Headlights Look Like Diamonds', 'Arcade Fire', 267.80689) None\n",
      "('Hands Up', 'Black Eyed Peas', 215.7971) None\n",
      "('Sweet And Wild', 'Radney Foster', 288.96608) None\n",
      "('Satellite Mind', 'Metric', 222.85016) None\n",
      "(\"You're The One\", 'Dwight Yoakam', 239.3073) None\n",
      "('Did You Get My Message? (Live From Montalvo)', 'Jason Mraz', 266.63138) None\n",
      "('N A Whitemanzeyez', 'Kutt Calhoun', 307.51302) None\n",
      "('Karma Police', 'Radiohead', 261.45914) None\n",
      "('Puto', 'Molotov', 127.37261) None\n",
      "('Killing Lies', 'The Strokes', 230.1122) None\n",
      "('Hallelujah', 'Rufus Wainwright', 249.62567) None\n",
      "(\"Ghosts 'n' Stuff (Original Instrumental Mix)\", 'Deadmau5', 374.20363) None\n",
      "(\"You're The Voice\", 'John Farnham', 300.72118) None\n",
      "('Inside Of You', 'Infant Sorrow', 170.16118) None\n",
      "('Clean Up Woman (Single/LP Version)', 'Betty Wright', 164.85832) None\n",
      "('Tranen Gelachen', 'Guus Meeuwis', 198.42567) None\n",
      "('The Small Print', 'Muse', 209.00526) None\n",
      "('A QuÃ\\x83Â© Niegas El Delirio (MalagueÃ\\x83Â±a) (Live)', 'Estrella Morente', 135.70567) None\n",
      "(\"It's My Life (Radio Edit)\", 'Dr. Alban', 240.14322) None\n",
      "('Sit Down. Stand Up', 'Radiohead', 260.0224) None\n",
      "('Purple Weed', 'Mondo Marcio', 263.60118) None\n",
      "(\"Someone Else's Arms\", 'Mae', 309.15873) None\n",
      "(\"The Future Ain't What It Used To Be\", 'Meat Loaf / Jennifer Hudson', 474.01751) None\n",
      "('A-Punk (Album)', 'Vampire Weekend', 137.82159) None\n",
      "('Time To Pretend', 'MGMT', 264.17587) None\n",
      "('Luna y Sol', 'Federico Aubele', 213.65506) None\n",
      "('Touch My Horn', 'Jesse Rose', 313.15546) None\n",
      "('Eternity', 'Orion', 292.70159) None\n",
      "('Dyed in the Wool (Album Version)', 'Circa Survive', 298.70975) None\n",
      "('Wretchrospective (feat. Vis)', 'Wretch 32_ Vis', 243.35628) None\n",
      "('Simple', 'Simian Mobile Disco', 354.61179) None\n",
      "('Riecht wie Teen Spirit (Smells Like Teen Spirit)', 'ErdmÃ\\x83Â¶bel', 289.25342) None\n",
      "('Adrenalin', 'Eisbrecher', 241.89342) None\n",
      "('Bread & Water', 'Ryan Bingham', 247.30077) None\n",
      "('VooDoo', 'Ashanti', 282.46159) None\n",
      "('Horn Concerto No. 4 in E flat K495: II. Romance (Andante cantabile)', 'Barry Tuckwell/Academy of St Martin-in-the-Fields/Sir Neville Marriner', 277.15873) None\n",
      "(\"Frankie's Office\", 'Clint Eastwood', 65.25342) None\n",
      "('Fireflies', 'Charttraxx Karaoke', 225.17506) None\n",
      "('Summer Breeze', 'Jason Mraz', 264.69832) None\n",
      "('Love Shack', \"The B-52's\", 321.54077) None\n",
      "('Alexandra', 'Aventura', 242.1024) None\n",
      "('Canada', 'Five Iron Frenzy', 236.09424) None\n",
      "('Anthem For The Underdog', '12 Stones', 184.0322) None\n",
      "('Revelry', 'Kings Of Leon', 201.79546) None\n",
      "('Get Ready To Bounce Recall 08', 'Brooklyn Bounce', 359.13098) None\n",
      "('The Good Fight', 'Dashboard Confessional', 147.30404) None\n",
      "('Low Land Moan', 'Lonnie Johnson', 194.55955) None\n",
      "('In', 'Leggo Beast', 376.58077) None\n",
      "('Sway', 'The Pussycat Dolls', 190.95465) None\n",
      "('I Miss You Now', 'Stereophonics', 290.53342) None\n",
      "('Masculine Eclipse', 'The Beautiful South', 236.5122) None\n",
      "('As If Set Afire', 'The Acacia Strain', 194.21995) None\n",
      "('Underwater World', 'ATB', 251.48036) None\n",
      "('Our Last Time', 'The Robert Cray Band', 309.52444) None\n",
      "('T.N.T. For The Brain (112 Bpm) (Radio Edit)', 'Enigma', 242.78159) None\n",
      "('Tattered Banners And Bloody Flags', 'Amon Amarth', 268.2771) None\n",
      "('The Great Escape (Album Version) (Explicit)', 'We Are Scientists', 198.89587) None\n",
      "('Lacreme napulitane', 'Roberto Murolo', 188.02893) None\n",
      "('Autobiography', 'Ashlee Simpson', 214.43873) None\n",
      "('The Ecstasy Of Gold', 'Metallica', 152.60689) None\n",
      "('Kryptonite', '3 Doors Down', 233.74322) None\n",
      "('No Fool (For Love)', 'Hazell Dean', 367.98649) None\n",
      "('Pray', 'Apocalyptica', 262.5824) None\n",
      "('Bubble Toes', 'Jack Johnson', 236.93016) None\n",
      "('Lotus', 'Cage The Elephant', 196.38812) None\n",
      "('You Belong With Me', 'Taylor Swift', 230.47791) None\n",
      "('Candy Rain', 'Soul For Real', 271.25506) None\n",
      "('Firestarter', 'The Prodigy', 225.09669) None\n",
      "('Addicted', 'Amy Winehouse', 165.11955) None\n",
      "('The Evil That Men Do (1998 Digital Remaster)', 'Iron Maiden', 275.19955) None\n",
      "('All Around Me', 'David Crowder*Band', 276.74077) None\n",
      "('Everyday', 'The Cinematic Orchestra', 622.2624) None\n",
      "('Feel It', 'Three 6 Mafia vs. TiÃ\\x83Â«sto with Sean Kingston and Flo Rida', 241.05751) None\n",
      "('Overload', 'Sugababes', 275.93098) None\n",
      "('Hold You', 'Gyptian', 233.09016) None\n",
      "('The Way She Moves', 'Zion / Akon', 233.19465) None\n",
      "('I Want Your Love', 'Transvision Vamp', 209.91955) None\n",
      "('Corrido de Boxeo', 'Ry Cooder', 201.56036) None\n",
      "('When I Grow Up', 'The Pussycat Dolls', 245.18485) None\n",
      "('Yellow', 'Coldplay', 268.30322) None\n",
      "('She Likes (Bittersweet Love)', 'Forever The Sickest Kids', 169.482) None\n",
      "('Believe That', 'Lil Wayne / Blaque / Mannie Fresh', 255.34649) None\n",
      "('Through The Fire And Flames (Album Version)', 'Dragonforce', 441.02485) None\n",
      "('Lucky (Album Version)', 'Jason Mraz & Colbie Caillat', 189.6224) None\n",
      "('Is She Weird', 'Pixies', 181.13261) None\n",
      "('Without Me', 'Eminem', 251.55873) None\n",
      "('Cry No More', 'Buju Banton', 232.48934) None\n",
      "('Lotus', 'Cage The Elephant', 196.38812) None\n",
      "('Horn Concerto No. 4 in E flat K495: II. Romance (Andante cantabile)', 'Barry Tuckwell/Academy of St Martin-in-the-Fields/Sir Neville Marriner', 277.15873) None\n",
      "('Le Million', 'Ste Strausz', 285.36118) None\n",
      "('Only Superstition', 'Coldplay', 228.62322) None\n",
      "('Bedroom Suite', 'Joe Christmas', 185.7824) None\n",
      "('A New Arrangement', 'Bright Eyes', 313.23383) None\n",
      "('The Only Exception (Album Version)', 'Paramore', 267.65016) None\n",
      "('Sinisten tÃ\\x83Â¤htien alla', 'J. Karjalainen & Mustat Lasit', 336.74404) None\n",
      "('Knee 2', 'Philip Glass', 368.40444) None\n",
      "('SinceritÃ\\x83Â© Et Jalousie', 'Alliance Ethnik', 195.94404) None\n",
      "('Her Voice Is Beyond Her Years', 'Mew', 167.75791) None\n",
      "('If You Leave Me Now', 'Ive Mendes', 238.94159) None\n",
      "('SinceritÃ\\x83Â© Et Jalousie', 'Alliance Ethnik', 195.94404) None\n",
      "('Diamond Dave', 'the bird and the bee', 193.802) None\n",
      "('1999', 'Common / Sadat X', 256.20853) None\n",
      "('King Of Pain (Live/Unplugged Version)', 'Alanis Morissette', 245.15873) None\n",
      "('Rebirthing (Album Version)', 'Skillet', 233.32526) None\n",
      "('Beauty and the Beast', 'James Galway;Julian Lee', 218.67057) None\n",
      "('Dressed For Friend Requests (Album Version)', 'Drop Dead_ Gorgeous', 156.70812) None\n",
      "(\"You're The One\", 'Dwight Yoakam', 239.3073) None\n",
      "(\"Tuesday's Child\", 'Trouble', 205.11302) None\n",
      "('All The Right Moves', 'OneRepublic', 237.97506) None\n",
      "('Wicked', 'Switchblade Symphony', 259.5522) None\n",
      "('My Distressor 40Khz ReRub Mix', 'Sharooz', 234.05669) None\n",
      "('Six Days At The Bottom Of The Ocean', 'Explosions In The Sky', 522.9971) None\n",
      "('Little Bird', 'Emmylou Harris', 194.63791) None\n",
      "('The Horizon Has Been Defeated', 'Jack Johnson', 153.67791) None\n",
      "('Everything In Its Right Place', 'Radiohead', 249.93914) None\n",
      "('Heretics', 'Andrew Bird', 215.87546) None\n",
      "('Sabbra Cadabra', 'Metallica', 380.21179) None\n",
      "('Catch You Baby (Steve Pitron & Max Sanna Radio Edit)', 'Lonnie Gordon', 181.21098) None\n",
      "('Shattered', 'Dropkick Murphys', 167.73179) None\n",
      "('As The Rhyme Goes On', 'Eric B. & Rakim', 240.32608) None\n",
      "('Settle For A Slowdown', 'Dierks Bentley', 223.242) None\n",
      "('Daniel Cowman', 'Regina Spektor', 290.14159) None\n",
      "('Make You Sin', 'Angelspit', 241.94567) None\n",
      "('Roc U', 'Young Gunz / Beanie Sigel', 292.44036) None\n",
      "('Sexy Bitch', 'DJ Dizzy', 221.1522) None\n",
      "('Sayonara-Nostalgia', 'Base Ball Bear', 255.60771) None\n",
      "('In The Hands Of The Gods (Featuring Biz Markie)', 'Morcheeba', 101.95546) None\n",
      "(\"Don't Forget To Breathe\", 'Bitter:Sweet', 194.16771) None\n",
      "(\"Now You're Gone\", 'Basshunter Feat. DJ Mental Theo\\x19s Bazzheadz', 152.65914) None\n",
      "('Undo', 'BjÃ\\x83Â¶rk', 348.57751) None\n",
      "('G4L', 'Rihanna', 239.75138) None\n",
      "('Hello', 'Evanescence', 220.3424) None\n",
      "('Tamale', 'Mr. Vegas', 240.69179) None\n",
      "('Another Place', 'Mischa Daniels', 419.81342) None\n",
      "('Straight To Hell', 'The Menzingers', 276.00934) None\n",
      "('Cry Me A River', 'Justin Timberlake', 288.93995) None\n",
      "('Un Camino Hasta Vos', 'Vilma Palma e Vampiros', 338.18077) None\n",
      "('Sura (2008 Digital Remaster)', 'CCCP - Fedeli Alla Linea', 329.66485) None\n",
      "('Pursuit Of Happiness (nightmare)', 'Kid Cudi / MGMT / Ratatat', 295.67955) None\n",
      "('Forever', 'Drake / Kanye West / Lil Wayne / Eminem', 357.66812) None\n",
      "('Homesick [Acoustic]', 'A Day To Remember', 247.64036) None\n",
      "('Dead And Gone [feat. Justin Timberlake] (Explicit Album Version)', 'T.I.', 299.75465) None\n",
      "(\"It'll Be a Long Time (Album Version)\", 'The Offspring', 163.3171) None\n",
      "('Esta Es Para Hacerte FÃ\\x83Â©liz', 'Jorge Gonzalez', 272.14322) None\n",
      "('Spin Spin Sugar', 'Sneaker Pimps', 260.91057) None\n",
      "('This War Is Ours (The Guillotine II)', 'Escape The Fate', 266.73587) None\n",
      "('La Vida Es Un Ratico', 'Juanes', 243.27791) None\n",
      "('Never Mind', 'The Replacements', 170.57914) None\n",
      "('Possession', 'Sarah McLachlan', 278.90893) None\n",
      "(\"Don't Start Me Talkin'\", 'Sonny Boy Williamson', 152.24118) None\n",
      "('Back To Life (However Do You Want Me) (2003 Digital Remaster) (Feat. Caron Wheeler)', 'Soul II Soul Featuring Caron Wheeler', 225.2273) None\n",
      "('Dog Days Are Over (Radio Edit)', 'Florence + The Machine', 219.66322) None\n",
      "('Heresy  (LP Version)', 'Pantera', 286.69342) None\n",
      "('Remedy', 'Cold', 177.76281) None\n",
      "('Frozen Angel', 'Norther', 246.54322) None\n",
      "('The Pretender', 'Foo Fighters', 271.38567) None\n",
      "('Besos De Ceniza', 'Timbiriche', 202.60526) None\n",
      "('Rose', 'A Perfect Circle', 206.05342) None\n",
      "('The Haunting', 'Anberlin', 348.682) None\n",
      "('Anything You Say (Unreleased Version)', 'Deas Vail', 237.68771) None\n"
     ]
    }
   ],
   "source": [
    "for index, row in df.iterrows():\n",
    "\n",
    "    # get songid and artistid from song and artist tables\n",
    "    cur.execute(song_select, (row.song, row.artist, row.length))\n",
    "    results = cur.fetchone()\n",
    "#     print((row.song, row.artist, row.length), results)\n",
    "    \n",
    "    if results:\n",
    "        songid, artistid = results\n",
    "    else:\n",
    "        songid, artistid = None, None\n",
    "\n",
    "    # insert songplay record\n",
    "    songplay_data = (index+1, row.ts, row.userId, row.level, songid, artistid, row.sessionId, row.location, row.userAgent)\n",
    "    cur.execute(songplay_table_insert, songplay_data)\n",
    "    conn.commit()"
   ]
  },
  {
   "cell_type": "markdown",
   "metadata": {
    "editable": true
   },
   "source": [
    "Run `test.ipynb` to see if you've successfully added records to this table."
   ]
  },
  {
   "cell_type": "markdown",
   "metadata": {
    "editable": true
   },
   "source": [
    "# Close Connection to Sparkify Database"
   ]
  },
  {
   "cell_type": "code",
   "execution_count": 25,
   "metadata": {
    "editable": true
   },
   "outputs": [],
   "source": [
    "conn.close()"
   ]
  },
  {
   "cell_type": "markdown",
   "metadata": {
    "editable": true
   },
   "source": [
    "# Implement `etl.py`\n",
    "Use what you've completed in this notebook to implement `etl.py`."
   ]
  },
  {
   "cell_type": "code",
   "execution_count": 23,
   "metadata": {
    "editable": true
   },
   "outputs": [],
   "source": [
    "conn.commit()"
   ]
  },
  {
   "cell_type": "code",
   "execution_count": 34,
   "metadata": {
    "editable": true
   },
   "outputs": [
    {
     "name": "stdout",
     "output_type": "stream",
     "text": [
      "None\n",
      "('SOMZWCG12A8C13C480', 'ARD7TVE1187B99BFB1')\n"
     ]
    }
   ],
   "source": [
    "# debug join for songplays table\n",
    "song_select = (\"\"\"\n",
    "SELECT s.song_id, s.artist_id FROM songs AS s\n",
    "JOIN artists AS a ON s.artist_id = a.artist_id\n",
    "WHERE s.title = %s AND a.name = %s AND s.duration = %s;\n",
    "\"\"\")\n",
    "\n",
    "print(cur.execute(song_select, (\"I Didn't Mean To\", 'Casual', 218.93179))) #\n",
    "results = cur.fetchone()\n",
    "print(results)\n",
    "conn.commit()"
   ]
  },
  {
   "cell_type": "code",
   "execution_count": null,
   "metadata": {
    "editable": true
   },
   "outputs": [],
   "source": []
  },
  {
   "cell_type": "code",
   "execution_count": null,
   "metadata": {
    "editable": true
   },
   "outputs": [],
   "source": []
  }
 ],
 "metadata": {
  "kernelspec": {
   "display_name": "Python 3",
   "language": "python",
   "name": "python3"
  },
  "language_info": {
   "codemirror_mode": {
    "name": "ipython",
    "version": 3
   },
   "file_extension": ".py",
   "mimetype": "text/x-python",
   "name": "python",
   "nbconvert_exporter": "python",
   "pygments_lexer": "ipython3",
   "version": "3.6.3"
  }
 },
 "nbformat": 4,
 "nbformat_minor": 4
}
